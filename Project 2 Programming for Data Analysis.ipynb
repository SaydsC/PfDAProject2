{
 "cells": [
  {
   "cell_type": "markdown",
   "id": "8b4822bb",
   "metadata": {},
   "source": [
    "## Project II - Programming for Data Analysis\n",
    "****\n",
    "### Problem Statement\n",
    "\n",
    "This project will investigate the Wisconsin Breast Cancer dataset. The following list presents the\n",
    "requirements of the project\n",
    "- Undertake an analysis/review of the dataset and present an overview and background.\n",
    "- Provide a literature review on classifiers which have been applied to the dataset and compare their performance\n",
    "- Present a statistical analysis of the dataset\n",
    "- Using a range of machine learning algorithms, train a set of classifiers on the dataset (using SKLearn etc.) and present classification performance results. Detail your rationale for the parameter selections you made while training the classifiers.\n",
    "- Compare, contrast and critique your results with reference to the literature\n",
    "- Discuss and investigate how the dataset could be extended – using data synthesis of new tumour datapoints\n",
    "- Document your work in a Jupyter notebook.\n",
    "- As a suggestion, you could use Pandas, Seaborn, SKLearn, etc. to perform your analysis.\n",
    "- Please use GitHub to demonstrate research, progress and consistency\n",
    "****"
   ]
  },
  {
   "cell_type": "markdown",
   "id": "7ef812bb",
   "metadata": {},
   "source": []
  }
 ],
 "metadata": {
  "kernelspec": {
   "display_name": "Python 3 (ipykernel)",
   "language": "python",
   "name": "python3"
  },
  "language_info": {
   "codemirror_mode": {
    "name": "ipython",
    "version": 3
   },
   "file_extension": ".py",
   "mimetype": "text/x-python",
   "name": "python",
   "nbconvert_exporter": "python",
   "pygments_lexer": "ipython3",
   "version": "3.9.13"
  }
 },
 "nbformat": 4,
 "nbformat_minor": 5
}
